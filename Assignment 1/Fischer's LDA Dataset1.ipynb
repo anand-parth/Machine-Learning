{
 "cells": [
  {
   "cell_type": "code",
   "execution_count": 3,
   "metadata": {},
   "outputs": [
    {
     "name": "stdout",
     "output_type": "stream",
     "text": [
      "Collecting scipy\n",
      "  Downloading scipy-1.4.1-cp37-cp37m-macosx_10_6_intel.whl (28.4 MB)\n",
      "\u001b[K     |████████████████████████████████| 28.4 MB 48 kB/s eta 0:00:019\n",
      "\u001b[?25hRequirement already satisfied: numpy>=1.13.3 in /Users/parthanand/Documents/packages/py3/lib/python3.7/site-packages (from scipy) (1.18.4)\n",
      "Installing collected packages: scipy\n",
      "Successfully installed scipy-1.4.1\n"
     ]
    }
   ],
   "source": [
    "!pip install scipy\n",
    "import pandas as pd\n",
    "import numpy as np\n",
    "import matplotlib.pyplot as plt\n",
    "from scipy.stats import norm"
   ]
  },
  {
   "cell_type": "code",
   "execution_count": 4,
   "metadata": {},
   "outputs": [],
   "source": [
    "data1 = pd.read_csv('a1_data/a1_d1.csv', header=None)"
   ]
  },
  {
   "cell_type": "code",
   "execution_count": 5,
   "metadata": {},
   "outputs": [
    {
     "name": "stdout",
     "output_type": "stream",
     "text": [
      "            0         1\n",
      "2    1.169815 -1.072747\n",
      "3    0.631926 -0.255663\n",
      "6   -0.386518 -0.698542\n",
      "8   -0.578622 -1.482781\n",
      "9    0.250082 -1.134510\n",
      "..        ...       ...\n",
      "988 -0.959684 -0.789318\n",
      "989 -0.403834 -1.141732\n",
      "991  0.666740 -0.727093\n",
      "995 -1.226337 -0.507286\n",
      "997 -0.317336 -0.357282\n",
      "\n",
      "[500 rows x 2 columns]\n"
     ]
    }
   ],
   "source": [
    "x1 = data1[data1.iloc[:,-1] == 0].iloc[:,:-1]\n",
    "x2 = data1[data1.iloc[:,-1] == 1].iloc[:,:-1]\n",
    "print(x1)\n",
    "m1 = np.array(np.mean(x1))\n",
    "m2 = np.array(np.mean(x2))\n",
    "\n",
    "m1_m2 = m1-m2.reshape(1,2)\n",
    "m1_m2T = m1_m2.reshape((-1,1))\n",
    "B = np.dot(m1_m2T,m1_m2)    # B represents Sb\n",
    "s_mat = []\n",
    "for elem in np.array(x1-m1):\n",
    "    t = np.dot((elem.reshape((-1,1))), elem.reshape(1,2))\n",
    "    s_mat.append(t)\n",
    "S = np.zeros((x1.shape[1], x1.shape[1]))  # S represents Sw\n",
    "for i in s_mat:\n",
    "    S += i\n",
    "s_mat = []\n",
    "for elem in np.array(x2-m2):\n",
    "    t = np.dot((elem.reshape((-1,1))), elem.reshape(1,2))\n",
    "    s_mat.append(t)\n",
    "for i in s_mat:\n",
    "    S += i"
   ]
  },
  {
   "cell_type": "code",
   "execution_count": 6,
   "metadata": {},
   "outputs": [
    {
     "name": "stdout",
     "output_type": "stream",
     "text": [
      "Weight vector: [ 0.03029751 -0.99945382]\n"
     ]
    }
   ],
   "source": [
    "Sinv = np.linalg.inv(S)\n",
    "Sinv_B = Sinv.dot(B)\n",
    "eigval, W = np.linalg.eig(Sinv_B)\n",
    "eigval, W = zip(*sorted(zip(eigval, W)))\n",
    "W = W[-1]\n",
    "print('Weight vector: {}'.format(W))"
   ]
  },
  {
   "cell_type": "code",
   "execution_count": 7,
   "metadata": {},
   "outputs": [],
   "source": [
    "projc1 = np.dot(x1,W) / np.dot(W.T,W)\n",
    "projc2 = np.dot(x2,W) / np.dot(W.T,W)\n",
    "mu, sigma = norm.fit(projc1)\n",
    "mu2, sigma2 = norm.fit(projc2)"
   ]
  },
  {
   "cell_type": "code",
   "execution_count": 8,
   "metadata": {
    "scrolled": true
   },
   "outputs": [
    {
     "name": "stdout",
     "output_type": "stream",
     "text": [
      "Separation point: 0.15151515151515138\n"
     ]
    },
    {
     "data": {
      "image/png": "[encoded data removed]",
      "text/plain": [
       "<Figure size 432x288 with 1 Axes>"
      ]
     },
     "metadata": {
      "needs_background": "light"
     },
     "output_type": "display_data"
    }
   ],
   "source": [
    "xmin, xmax = [-3,3]\n",
    "x = np.linspace(xmin, xmax, 100)\n",
    "p = norm.pdf(x, mu, sigma)\n",
    "q = norm.pdf(x, mu2,sigma2)\n",
    "plt.plot(x, p, 'k', color='red',linewidth=2, label='Class 0')\n",
    "plt.plot(x, q, 'k',color='blue',linewidth=2, label='Class 1')\n",
    "idx = np.argwhere(np.diff(np.sign(p - q))).flatten() # Find separation point\n",
    "sep_pt = x[idx[0]]\n",
    "print('Separation point: {}'.format(sep_pt))\n",
    "plt.plot(x[idx], p[idx], 'ro')\n",
    "plt.legend()\n",
    "plt.title('Normal Distributions')\n",
    "plt.show()"
   ]
  },
  {
   "cell_type": "code",
   "execution_count": 9,
   "metadata": {},
   "outputs": [],
   "source": [
    "x = []\n",
    "y = []\n",
    "for index, rows in data1.iterrows(): \n",
    "    l = [rows[0], rows[1]]\n",
    "    x.append(l)\n",
    "    y.append(int(rows[2]))"
   ]
  },
  {
   "cell_type": "code",
   "execution_count": null,
   "metadata": {},
   "outputs": [],
   "source": [
    "colors = ['red', 'blue']\n",
    "fig, ax = plt.subplots(figsize=(8, 8))\n",
    "for point, pred in zip(x, y):\n",
    "    ax.scatter(point[0], point[1], color=colors[pred], alpha=0.3)\n",
    "    proj = (np.dot(point, W) * W) / np.dot(W.T, W)\n",
    "    ax.scatter(proj[0], proj[1], color=colors[pred], alpha=0.3)\n",
    "plt.show()"
   ]
  },
  {
   "cell_type": "code",
   "execution_count": null,
   "metadata": {},
   "outputs": [],
   "source": [
    "tp, tn = [0,0]\n",
    "for elem in projc2:\n",
    "    if elem < sep_pt:\n",
    "        tp += 1\n",
    "for elem in projc1:\n",
    "    if elem >= sep_pt:\n",
    "        tn +=1\n",
    "fn = len(x1) - tp\n",
    "fp = len(x2) - tn\n",
    "print('True positives: {} \\nTrue negatives: {} \\nFalse positives: {} \\nFalse negatives: {}'.format(tp, tn, fp, fn))\n",
    "\n",
    "precision = tp / (tp+fp)\n",
    "recall = tp / (tp + fn)\n",
    "accuracy = (tp+tn)/(tp+tn+fp+fn)\n",
    "print('Accuracy: {}'.format(accuracy))\n",
    "f_score = 2 * precision * recall / (precision + recall)\n",
    "print('F-score: {}' .format(f_score))"
   ]
  },
  {
   "cell_type": "code",
   "execution_count": null,
   "metadata": {},
   "outputs": [],
   "source": []
  }
 ],
 "metadata": {
  "kernelspec": {
   "display_name": "Python 3",
   "language": "python",
   "name": "python3"
  },
  "language_info": {
   "codemirror_mode": {
    "name": "ipython",
    "version": 3
   },
   "file_extension": ".py",
   "mimetype": "text/x-python",
   "name": "python",
   "nbconvert_exporter": "python",
   "pygments_lexer": "ipython3",
   "version": "3.7.3"
  }
 },
 "nbformat": 4,
 "nbformat_minor": 2
}
